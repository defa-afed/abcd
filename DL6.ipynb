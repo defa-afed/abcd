{
 "cells": [
  {
   "cell_type": "code",
   "execution_count": 8,
   "id": "f2e04a6f",
   "metadata": {},
   "outputs": [],
   "source": [
    "import tensorflow as tf\n",
    "import numpy as np\n",
    "import cv2\n",
    "import PIL.Image as Image\n",
    "import os\n",
    "import matplotlib.pyplot as plt\n",
    "import tensorflow_hub as hub\n",
    "import pathlib"
   ]
  },
  {
   "cell_type": "code",
   "execution_count": 9,
   "id": "5ec36bcf",
   "metadata": {},
   "outputs": [],
   "source": [
    "Image_Shape = (224,224)"
   ]
  },
  {
   "cell_type": "code",
   "execution_count": 11,
   "id": "8db7d6e8",
   "metadata": {},
   "outputs": [],
   "source": [
    "URL_dataset =\"https://storage.googleapis.com/download.tensorflow.org/example_images/flower_photos.tgz\""
   ]
  },
  {
   "cell_type": "code",
   "execution_count": 12,
   "id": "2bfb14ec",
   "metadata": {},
   "outputs": [
    {
     "name": "stdout",
     "output_type": "stream",
     "text": [
      "Downloading data from https://storage.googleapis.com/download.tensorflow.org/example_images/flower_photos.tgz\n",
      "228813984/228813984 [==============================] - 38s 0us/step\n"
     ]
    }
   ],
   "source": [
    "data_dir = tf.keras.utils.get_file(origin=URL_dataset,\n",
    "fname='flower_photos',\n",
    "untar=True)\n",
    "data_dir = pathlib.Path(data_dir)"
   ]
  },
  {
   "cell_type": "code",
   "execution_count": 13,
   "id": "2efaa773",
   "metadata": {},
   "outputs": [
    {
     "name": "stdout",
     "output_type": "stream",
     "text": [
      "3670\n"
     ]
    }
   ],
   "source": [
    "# Total images\n",
    "image_count = len(list(data_dir.glob('*/*.jpg')))\n",
    "print(image_count)"
   ]
  },
  {
   "cell_type": "code",
   "execution_count": 14,
   "id": "4e21bb2d",
   "metadata": {},
   "outputs": [],
   "source": [
    "\"\"\"### Making the different classes\"\"\"\n",
    "flowers_images_dict = {\n",
    "    \"daisy\" : list(data_dir.glob('daisy/*')),\n",
    "    \"dandelion\" : list(data_dir.glob('dandelion/*')),\n",
    "    \"roses\" : list(data_dir.glob('roses/*')),\n",
    "    \"sunflowers\" : list(data_dir.glob('sunflowers/*')),\n",
    "    \"tulips\" : list(data_dir.glob('tulips/*'))\n",
    "}\n"
   ]
  },
  {
   "cell_type": "code",
   "execution_count": 15,
   "id": "2cd18078",
   "metadata": {},
   "outputs": [],
   "source": [
    "flowers_labels_dict= {\n",
    "    \"daisy\" : 0,\n",
    "    \"dandelion\" : 1,\n",
    "    \"roses\" : 2,\n",
    "    \"sunflowers\" : 3,\n",
    "    \"tulips\" : 4\n",
    "}"
   ]
  },
  {
   "cell_type": "code",
   "execution_count": 16,
   "id": "91322820",
   "metadata": {},
   "outputs": [],
   "source": [
    "\"\"\"### Reshaping Images\"\"\"\n",
    "X, Y = [],[]\n"
   ]
  },
  {
   "cell_type": "code",
   "execution_count": 17,
   "id": "95f43929",
   "metadata": {},
   "outputs": [],
   "source": [
    "for flower_name, images in flowers_images_dict.items():\n",
    "    for image in images:\n",
    "        img = cv2.imread(str(image))\n",
    "        resized_img = cv2.resize(img, Image_Shape)\n",
    "        X.append(resized_img)\n",
    "        Y.append(flowers_labels_dict[flower_name])"
   ]
  },
  {
   "cell_type": "code",
   "execution_count": 18,
   "id": "55aa150c",
   "metadata": {},
   "outputs": [],
   "source": [
    "X = np.array(X)\n",
    "y = np.array(Y)"
   ]
  },
  {
   "cell_type": "code",
   "execution_count": 19,
   "id": "22bf4f9d",
   "metadata": {},
   "outputs": [],
   "source": [
    "from sklearn.model_selection import train_test_split\n",
    "X_train, X_test, y_train, y_test = train_test_split(X, y, random_state=0)"
   ]
  },
  {
   "cell_type": "code",
   "execution_count": 20,
   "id": "9b05d52f",
   "metadata": {},
   "outputs": [],
   "source": [
    "X_train_scaled = X_train / 255\n",
    "X_test_scaled = X_test / 255"
   ]
  },
  {
   "cell_type": "code",
   "execution_count": 21,
   "id": "4ac164ed",
   "metadata": {},
   "outputs": [],
   "source": [
    "\"\"\"### Pretrained Model\"\"\"\n",
    "tf_model = \"https://tfhub.dev/google/tf2-preview/mobilenet_v2/feature_vector/4\"\n"
   ]
  },
  {
   "cell_type": "code",
   "execution_count": 22,
   "id": "71f94341",
   "metadata": {},
   "outputs": [
    {
     "name": "stdout",
     "output_type": "stream",
     "text": [
      "WARNING:tensorflow:Please fix your imports. Module tensorflow.python.training.tracking.data_structures has been moved to tensorflow.python.trackable.data_structures. The old module will be deleted in version 2.11.\n",
      "Model: \"sequential\"\n",
      "_________________________________________________________________\n",
      " Layer (type)                Output Shape              Param #   \n",
      "=================================================================\n",
      " keras_layer (KerasLayer)    (None, 1280)              2257984   \n",
      "                                                                 \n",
      " dense (Dense)               (None, 5)                 6405      \n",
      "                                                                 \n",
      "=================================================================\n",
      "Total params: 2,264,389\n",
      "Trainable params: 6,405\n",
      "Non-trainable params: 2,257,984\n",
      "_________________________________________________________________\n"
     ]
    }
   ],
   "source": [
    "classifier = tf.keras.Sequential([\n",
    "    hub.KerasLayer(tf_model,input_shape=(224,224,3), trainable=False),\n",
    "    tf.keras.layers.Dense(len(flowers_labels_dict), activation=\"softmax\")\n",
    "])\n",
    "classifier.summary()"
   ]
  },
  {
   "cell_type": "code",
   "execution_count": 23,
   "id": "cd8c9f95",
   "metadata": {},
   "outputs": [],
   "source": [
    "classifier.compile(\n",
    "    optimizer='adam',\n",
    "    loss=tf.keras.losses.SparseCategoricalCrossentropy(from_logits=True),\n",
    "    metrics=[\"accuracy\"]\n",
    ")\n"
   ]
  },
  {
   "cell_type": "code",
   "execution_count": 24,
   "id": "0a43df84",
   "metadata": {},
   "outputs": [
    {
     "name": "stdout",
     "output_type": "stream",
     "text": [
      "Epoch 1/5\n"
     ]
    },
    {
     "name": "stderr",
     "output_type": "stream",
     "text": [
      "C:\\Users\\vozon\\anaconda3\\lib\\site-packages\\keras\\backend.py:5582: UserWarning: \"`sparse_categorical_crossentropy` received `from_logits=True`, but the `output` argument was produced by a Softmax activation and thus does not represent logits. Was this intended?\n",
      "  output, from_logits = _get_logits(\n"
     ]
    },
    {
     "name": "stdout",
     "output_type": "stream",
     "text": [
      "86/86 [==============================] - 75s 802ms/step - loss: 0.8284 - accuracy: 0.6842\n",
      "Epoch 2/5\n",
      "86/86 [==============================] - 67s 774ms/step - loss: 0.4183 - accuracy: 0.8536\n",
      "Epoch 3/5\n",
      "86/86 [==============================] - 66s 768ms/step - loss: 0.3334 - accuracy: 0.8895\n",
      "Epoch 4/5\n",
      "86/86 [==============================] - 66s 764ms/step - loss: 0.2797 - accuracy: 0.9073\n",
      "Epoch 5/5\n",
      "86/86 [==============================] - 66s 768ms/step - loss: 0.2447 - accuracy: 0.9215\n"
     ]
    },
    {
     "data": {
      "text/plain": [
       "<keras.callbacks.History at 0x110848021c0>"
      ]
     },
     "execution_count": 24,
     "metadata": {},
     "output_type": "execute_result"
    }
   ],
   "source": [
    "classifier.fit(X_train_scaled, y_train,epochs=5)"
   ]
  },
  {
   "cell_type": "code",
   "execution_count": 25,
   "id": "efdfd49f",
   "metadata": {},
   "outputs": [
    {
     "name": "stdout",
     "output_type": "stream",
     "text": [
      "29/29 [==============================] - 25s 794ms/step - loss: 0.3564 - accuracy: 0.8715\n"
     ]
    },
    {
     "data": {
      "text/plain": [
       "[0.3563876152038574, 0.8714597225189209]"
      ]
     },
     "execution_count": 25,
     "metadata": {},
     "output_type": "execute_result"
    }
   ],
   "source": [
    "classifier.evaluate(X_test_scaled, y_test)"
   ]
  },
  {
   "cell_type": "code",
   "execution_count": 62,
   "id": "f7263db6",
   "metadata": {
    "scrolled": true
   },
   "outputs": [],
   "source": [
    "from PIL import Image\n",
    "img = Image.open(\"daisy.jpg.crdownload\")\n",
    "img = tf.keras.preprocessing.image.img_to_array(img.resize(Image_Shape))\n",
    "img = np.array([img])"
   ]
  },
  {
   "cell_type": "code",
   "execution_count": 63,
   "id": "f6731efb",
   "metadata": {},
   "outputs": [
    {
     "name": "stdout",
     "output_type": "stream",
     "text": [
      "1/1 [==============================] - 0s 70ms/step\n"
     ]
    }
   ],
   "source": [
    "res = classifier.predict(img)"
   ]
  },
  {
   "cell_type": "code",
   "execution_count": 64,
   "id": "6a6f4465",
   "metadata": {},
   "outputs": [
    {
     "name": "stdout",
     "output_type": "stream",
     "text": [
      "The prediction is :daisy\n"
     ]
    }
   ],
   "source": [
    "print(\"The prediction is :{}\".format(list(flowers_labels_dict.keys())[np.argmax(res)]))"
   ]
  },
  {
   "cell_type": "code",
   "execution_count": null,
   "id": "e6450425",
   "metadata": {},
   "outputs": [],
   "source": []
  }
 ],
 "metadata": {
  "kernelspec": {
   "display_name": "Python 3.10.4 64-bit",
   "language": "python",
   "name": "python3"
  },
  "language_info": {
   "codemirror_mode": {
    "name": "ipython",
    "version": 3
   },
   "file_extension": ".py",
   "mimetype": "text/x-python",
   "name": "python",
   "nbconvert_exporter": "python",
   "pygments_lexer": "ipython3",
   "version": "3.10.4"
  },
  "vscode": {
   "interpreter": {
    "hash": "4e02a1c22841064f8b211c647afccfb59ecd3fdc976485085ae35b790c46afc4"
   }
  }
 },
 "nbformat": 4,
 "nbformat_minor": 5
}
